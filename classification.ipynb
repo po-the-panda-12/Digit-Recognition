{
 "cells": [
  {
   "cell_type": "markdown",
   "id": "58d4eeb3",
   "metadata": {},
   "source": [
    "Importing Libraries"
   ]
  },
  {
   "cell_type": "code",
   "execution_count": 13,
   "id": "b4f84f99",
   "metadata": {},
   "outputs": [],
   "source": [
    "import pandas as pd\n",
    "import numpy as np\n",
    "\n",
    "import matplotlib.pyplot as plt\n",
    "%matplotlib inline\n",
    "import seaborn as sns\n",
    "\n",
    "from sklearn.model_selection import train_test_split\n",
    "from sklearn.ensemble import RandomForestClassifier\n",
    "\n",
    "import tensorflow as tf\n",
    "from tensorflow.keras.layers import Conv2D, MaxPooling2D, Flatten, Dense, BatchNormalization \n",
    "from tensorflow.keras.layers import Dropout, Activation, Flatten\n",
    "from tensorflow.keras.regularizers import l2\n",
    "from keras.models import Sequential\n",
    "\n",
    "from sklearn.metrics import classification_report, r2_score"
   ]
  },
  {
   "cell_type": "code",
   "execution_count": 0,
   "id": "b4f84f99",
   "metadata": {},
   "outputs": [],
   "source": [
    "kaggle competitions download -c digit-recognizer\n"
   ]
  },
  {
   "cell_type": "code",
   "execution_count": 2,
   "id": "6158f836",
   "metadata": {},
   "outputs": [
    {
     "data": {
      "text/html": [
       "<div>\n",
       "<style scoped>\n",
       "    .dataframe tbody tr th:only-of-type {\n",
       "        vertical-align: middle;\n",
       "    }\n",
       "\n",
       "    .dataframe tbody tr th {\n",
       "        vertical-align: top;\n",
       "    }\n",
       "\n",
       "    .dataframe thead th {\n",
       "        text-align: right;\n",
       "    }\n",
       "</style>\n",
       "<table border=\"1\" class=\"dataframe\">\n",
       "  <thead>\n",
       "    <tr style=\"text-align: right;\">\n",
       "      <th></th>\n",
       "      <th>label</th>\n",
       "      <th>pixel0</th>\n",
       "      <th>pixel1</th>\n",
       "      <th>pixel2</th>\n",
       "      <th>pixel3</th>\n",
       "      <th>pixel4</th>\n",
       "      <th>pixel5</th>\n",
       "      <th>pixel6</th>\n",
       "      <th>pixel7</th>\n",
       "      <th>pixel8</th>\n",
       "      <th>...</th>\n",
       "      <th>pixel774</th>\n",
       "      <th>pixel775</th>\n",
       "      <th>pixel776</th>\n",
       "      <th>pixel777</th>\n",
       "      <th>pixel778</th>\n",
       "      <th>pixel779</th>\n",
       "      <th>pixel780</th>\n",
       "      <th>pixel781</th>\n",
       "      <th>pixel782</th>\n",
       "      <th>pixel783</th>\n",
       "    </tr>\n",
       "  </thead>\n",
       "  <tbody>\n",
       "    <tr>\n",
       "      <th>0</th>\n",
       "      <td>1</td>\n",
       "      <td>0</td>\n",
       "      <td>0</td>\n",
       "      <td>0</td>\n",
       "      <td>0</td>\n",
       "      <td>0</td>\n",
       "      <td>0</td>\n",
       "      <td>0</td>\n",
       "      <td>0</td>\n",
       "      <td>0</td>\n",
       "      <td>...</td>\n",
       "      <td>0</td>\n",
       "      <td>0</td>\n",
       "      <td>0</td>\n",
       "      <td>0</td>\n",
       "      <td>0</td>\n",
       "      <td>0</td>\n",
       "      <td>0</td>\n",
       "      <td>0</td>\n",
       "      <td>0</td>\n",
       "      <td>0</td>\n",
       "    </tr>\n",
       "    <tr>\n",
       "      <th>1</th>\n",
       "      <td>0</td>\n",
       "      <td>0</td>\n",
       "      <td>0</td>\n",
       "      <td>0</td>\n",
       "      <td>0</td>\n",
       "      <td>0</td>\n",
       "      <td>0</td>\n",
       "      <td>0</td>\n",
       "      <td>0</td>\n",
       "      <td>0</td>\n",
       "      <td>...</td>\n",
       "      <td>0</td>\n",
       "      <td>0</td>\n",
       "      <td>0</td>\n",
       "      <td>0</td>\n",
       "      <td>0</td>\n",
       "      <td>0</td>\n",
       "      <td>0</td>\n",
       "      <td>0</td>\n",
       "      <td>0</td>\n",
       "      <td>0</td>\n",
       "    </tr>\n",
       "    <tr>\n",
       "      <th>2</th>\n",
       "      <td>1</td>\n",
       "      <td>0</td>\n",
       "      <td>0</td>\n",
       "      <td>0</td>\n",
       "      <td>0</td>\n",
       "      <td>0</td>\n",
       "      <td>0</td>\n",
       "      <td>0</td>\n",
       "      <td>0</td>\n",
       "      <td>0</td>\n",
       "      <td>...</td>\n",
       "      <td>0</td>\n",
       "      <td>0</td>\n",
       "      <td>0</td>\n",
       "      <td>0</td>\n",
       "      <td>0</td>\n",
       "      <td>0</td>\n",
       "      <td>0</td>\n",
       "      <td>0</td>\n",
       "      <td>0</td>\n",
       "      <td>0</td>\n",
       "    </tr>\n",
       "    <tr>\n",
       "      <th>3</th>\n",
       "      <td>4</td>\n",
       "      <td>0</td>\n",
       "      <td>0</td>\n",
       "      <td>0</td>\n",
       "      <td>0</td>\n",
       "      <td>0</td>\n",
       "      <td>0</td>\n",
       "      <td>0</td>\n",
       "      <td>0</td>\n",
       "      <td>0</td>\n",
       "      <td>...</td>\n",
       "      <td>0</td>\n",
       "      <td>0</td>\n",
       "      <td>0</td>\n",
       "      <td>0</td>\n",
       "      <td>0</td>\n",
       "      <td>0</td>\n",
       "      <td>0</td>\n",
       "      <td>0</td>\n",
       "      <td>0</td>\n",
       "      <td>0</td>\n",
       "    </tr>\n",
       "    <tr>\n",
       "      <th>4</th>\n",
       "      <td>0</td>\n",
       "      <td>0</td>\n",
       "      <td>0</td>\n",
       "      <td>0</td>\n",
       "      <td>0</td>\n",
       "      <td>0</td>\n",
       "      <td>0</td>\n",
       "      <td>0</td>\n",
       "      <td>0</td>\n",
       "      <td>0</td>\n",
       "      <td>...</td>\n",
       "      <td>0</td>\n",
       "      <td>0</td>\n",
       "      <td>0</td>\n",
       "      <td>0</td>\n",
       "      <td>0</td>\n",
       "      <td>0</td>\n",
       "      <td>0</td>\n",
       "      <td>0</td>\n",
       "      <td>0</td>\n",
       "      <td>0</td>\n",
       "    </tr>\n",
       "  </tbody>\n",
       "</table>\n",
       "<p>5 rows × 785 columns</p>\n",
       "</div>"
      ],
      "text/plain": [
       "   label  pixel0  pixel1  pixel2  pixel3  pixel4  pixel5  pixel6  pixel7  \\\n",
       "0      1       0       0       0       0       0       0       0       0   \n",
       "1      0       0       0       0       0       0       0       0       0   \n",
       "2      1       0       0       0       0       0       0       0       0   \n",
       "3      4       0       0       0       0       0       0       0       0   \n",
       "4      0       0       0       0       0       0       0       0       0   \n",
       "\n",
       "   pixel8  ...  pixel774  pixel775  pixel776  pixel777  pixel778  pixel779  \\\n",
       "0       0  ...         0         0         0         0         0         0   \n",
       "1       0  ...         0         0         0         0         0         0   \n",
       "2       0  ...         0         0         0         0         0         0   \n",
       "3       0  ...         0         0         0         0         0         0   \n",
       "4       0  ...         0         0         0         0         0         0   \n",
       "\n",
       "   pixel780  pixel781  pixel782  pixel783  \n",
       "0         0         0         0         0  \n",
       "1         0         0         0         0  \n",
       "2         0         0         0         0  \n",
       "3         0         0         0         0  \n",
       "4         0         0         0         0  \n",
       "\n",
       "[5 rows x 785 columns]"
      ]
     },
     "execution_count": 2,
     "metadata": {},
     "output_type": "execute_result"
    }
   ],
   "source": [
    "df = pd.read_csv('train.csv')\n",
    "df.head()"
   ]
  },
  {
   "cell_type": "markdown",
   "id": "ff13632a",
   "metadata": {},
   "source": [
    "Basic visualising"
   ]
  },
  {
   "cell_type": "code",
   "execution_count": 3,
   "id": "4743eba3",
   "metadata": {
    "scrolled": true
   },
   "outputs": [
    {
     "data": {
      "image/png": "[encoded data removed]",
      "text/plain": [
       "<Figure size 1440x576 with 8 Axes>"
      ]
     },
     "metadata": {
      "needs_background": "light"
     },
     "output_type": "display_data"
    }
   ],
   "source": [
    "plt.figure(figsize=(20,8))\n",
    "for i in range(10,18):\n",
    "        \n",
    "    arr = np.array(df.loc[i-10, \"pixel0\":])\n",
    "    \n",
    "    image = np.reshape(arr, (28,28))\n",
    "    label = df.loc[i-10, \"label\"]\n",
    "    \n",
    "    plt.subplot(231+(i))\n",
    "    plt.imshow(image) #cmap='gray'\n",
    "    plt.title('Label:'+str(label),size=20)\n",
    "    "
   ]
  },
  {
   "cell_type": "code",
   "execution_count": 4,
   "id": "e1410ecc",
   "metadata": {},
   "outputs": [
    {
     "data": {
      "image/png": "[encoded data removed]",
      "text/plain": [
       "<Figure size 432x288 with 1 Axes>"
      ]
     },
     "metadata": {
      "needs_background": "light"
     },
     "output_type": "display_data"
    }
   ],
   "source": [
    "ax = sns.countplot(x=\"label\", data=df)\n",
    "\n",
    "for p in ax.patches:\n",
    "    ax.annotate(text = p.get_height(), xy = (p.get_x(), p.get_height()+0.05))\n"
   ]
  },
  {
   "cell_type": "code",
   "execution_count": 5,
   "id": "70299c77",
   "metadata": {},
   "outputs": [
    {
     "data": {
      "text/plain": [
       "0"
      ]
     },
     "execution_count": 5,
     "metadata": {},
     "output_type": "execute_result"
    }
   ],
   "source": [
    "df.isna().sum().sum()"
   ]
  },
  {
   "cell_type": "code",
   "execution_count": 6,
   "id": "aefd6825",
   "metadata": {},
   "outputs": [],
   "source": [
    "X = df.drop(\"label\", axis = 1)\n",
    "y = df[\"label\"]"
   ]
  },
  {
   "cell_type": "markdown",
   "id": "56f98e13",
   "metadata": {},
   "source": [
    "Scale data"
   ]
  },
  {
   "cell_type": "code",
   "execution_count": 7,
   "id": "7d8d8fba",
   "metadata": {},
   "outputs": [],
   "source": [
    "from sklearn.preprocessing import StandardScaler\n",
    "\n",
    "X = StandardScaler().fit_transform(X) #scaled df "
   ]
  },
  {
   "cell_type": "markdown",
   "id": "519b97da",
   "metadata": {},
   "source": [
    "Train test split"
   ]
  },
  {
   "cell_type": "code",
   "execution_count": 8,
   "id": "83afcb10",
   "metadata": {},
   "outputs": [],
   "source": [
    "X_train, X_test, y_train, y_test = train_test_split(X, y, test_size = 0.2, random_state = 42)\n"
   ]
  },
  {
   "cell_type": "markdown",
   "id": "0c9e5d45",
   "metadata": {},
   "source": [
    "Preprocessing - PCA"
   ]
  },
  {
   "cell_type": "code",
   "execution_count": 9,
   "id": "3ff3393d",
   "metadata": {},
   "outputs": [
    {
     "data": {
      "text/plain": [
       "320"
      ]
     },
     "execution_count": 9,
     "metadata": {},
     "output_type": "execute_result"
    }
   ],
   "source": [
    "from sklearn.decomposition import PCA\n",
    "\n",
    "pca = PCA(0.95)\n",
    "X_new = pca.fit_transform(X)\n",
    "X_original = pca.inverse_transform(X_new)\n",
    "\n",
    "pca.n_components_\n",
    "# pca.explained_variance_ratio_.sum() = 0.95"
   ]
  },
  {
   "cell_type": "code",
   "execution_count": 10,
   "id": "fc3ed42c",
   "metadata": {},
   "outputs": [
    {
     "data": {
      "image/png": "[encoded data removed]",
      "text/plain": [
       "<Figure size 576x288 with 2 Axes>"
      ]
     },
     "metadata": {
      "needs_background": "light"
     },
     "output_type": "display_data"
    }
   ],
   "source": [
    "#visualising\n",
    "\n",
    "plt.figure(figsize=(8,4));\n",
    "\n",
    "k = 0\n",
    "arr = np.array(df.loc[k, \"pixel0\":])\n",
    "\n",
    "# Original Image\n",
    "plt.subplot(1, 2, 1);\n",
    "plt.imshow(arr.reshape(28,28),\n",
    "               interpolation='nearest', cmap='gray');\n",
    "plt.xlabel('784 components', fontsize = 14)\n",
    "plt.title('Original Image', fontsize = 20);\n",
    "\n",
    "# 154 principal components\n",
    "plt.subplot(1, 2, 2);\n",
    "plt.imshow(X_original[k].reshape(28, 28),\n",
    "               interpolation='nearest', cmap='gray');\n",
    "plt.xlabel('320 components', fontsize = 14)\n",
    "plt.title('95% of Explained Variance', fontsize = 20);"
   ]
  },
  {
   "cell_type": "markdown",
   "id": "5152d086",
   "metadata": {},
   "source": [
    "Model creation"
   ]
  },
  {
   "cell_type": "code",
   "execution_count": 14,
   "id": "535ee554",
   "metadata": {},
   "outputs": [],
   "source": [
    "class myCallback(tf.keras.callbacks.Callback):\n",
    "    def on_epoch_end(self, epoch, logs={}):\n",
    "        if(logs.get('accuracy') >= 0.99): # Experiment with changing this value\n",
    "            print(\"\\nReached 99% accuracy so cancelling training!\")\n",
    "            self.model.stop_training = True\n"
   ]
  },
  {
   "cell_type": "code",
   "execution_count": 16,
   "id": "669f38fd",
   "metadata": {},
   "outputs": [
    {
     "name": "stderr",
     "output_type": "stream",
     "text": [
      "2022-03-09 16:10:07.728592: I tensorflow/core/platform/cpu_feature_guard.cc:151] This TensorFlow binary is optimized with oneAPI Deep Neural Network Library (oneDNN) to use the following CPU instructions in performance-critical operations:  AVX2 FMA\n",
      "To enable them in other operations, rebuild TensorFlow with the appropriate compiler flags.\n"
     ]
    }
   ],
   "source": [
    "model = tf.keras.models.Sequential([\n",
    "    \n",
    "    Conv2D(filters = 32, kernel_size = 5, strides = 1, activation = 'relu', kernel_regularizer=l2(0.0005)),\n",
    "    Conv2D(filters = 32, kernel_size = 5, strides = 1, activation = 'relu'),\n",
    "    BatchNormalization(),\n",
    "    \n",
    "    Activation(\"relu\"),\n",
    "    MaxPooling2D(pool_size = 2, strides = 2),\n",
    "    Dropout(0.25),\n",
    "    \n",
    "    \n",
    "    Conv2D(64, kernel_size = 3, strides = 1, activation = 'relu', input_shape = (28,28,1), kernel_regularizer = l2(0.0005)), \n",
    "    Conv2D(64, kernel_size = 3, strides = 1),\n",
    "    BatchNormalization(),\n",
    "    \n",
    "    Activation('relu'),\n",
    "    MaxPooling2D(pool_size = 2, strides = 2),\n",
    "    Dropout(0.25),\n",
    "    \n",
    "    \n",
    "    \n",
    "    Flatten(),\n",
    "    \n",
    "    Dense(units = 256),\n",
    "    BatchNormalization(),\n",
    "    Activation('relu'),\n",
    "    \n",
    "    Dense(units = 128),\n",
    "    BatchNormalization(),\n",
    "    Activation('relu'),\n",
    "    \n",
    "    Dense(units = 84),\n",
    "    BatchNormalization(),\n",
    "    Activation('relu'),\n",
    "    \n",
    "    \n",
    "    Dropout(0.25),\n",
    "    Dense(10, activation = 'softmax')])\n",
    "    \n"
   ]
  },
  {
   "cell_type": "code",
   "execution_count": 17,
   "id": "ff849ac1",
   "metadata": {},
   "outputs": [],
   "source": [
    "callbacks = myCallback()\n",
    "#compile model\n",
    "model.compile(optimizer='adam', loss='sparse_categorical_crossentropy', metrics=['accuracy'])"
   ]
  },
  {
   "cell_type": "code",
   "execution_count": 20,
   "id": "9099f3d2",
   "metadata": {},
   "outputs": [],
   "source": [
    "X_train = X_train.reshape(33600,28,28,1)\n",
    "X_test = X_test.reshape(8400,28,28,1)\n",
    "\n",
    "# y_train = tf.keras.utils.to_categorical(y_train) #for non-sparse categorical crossentropy\n",
    "# y_test = tf.keras.utils.to_categorical(y_test)"
   ]
  },
  {
   "cell_type": "code",
   "execution_count": 21,
   "id": "9d8447a5",
   "metadata": {},
   "outputs": [
    {
     "name": "stdout",
     "output_type": "stream",
     "text": [
      "Epoch 1/10\n",
      "1050/1050 [==============================] - 48s 44ms/step - loss: 0.2927 - accuracy: 0.9210\n",
      "Epoch 2/10\n",
      "1050/1050 [==============================] - 47s 45ms/step - loss: 0.1259 - accuracy: 0.9695\n",
      "Epoch 3/10\n",
      "1050/1050 [==============================] - 48s 46ms/step - loss: 0.1028 - accuracy: 0.9760\n",
      "Epoch 4/10\n",
      "1050/1050 [==============================] - 50s 47ms/step - loss: 0.0803 - accuracy: 0.9820\n",
      "Epoch 5/10\n",
      "1050/1050 [==============================] - 53s 51ms/step - loss: 0.0765 - accuracy: 0.9826\n",
      "Epoch 6/10\n",
      "1050/1050 [==============================] - 55s 53ms/step - loss: 0.0692 - accuracy: 0.9841\n",
      "Epoch 7/10\n",
      "1050/1050 [==============================] - 55s 52ms/step - loss: 0.0668 - accuracy: 0.9855\n",
      "Epoch 8/10\n",
      "1050/1050 [==============================] - 57s 54ms/step - loss: 0.0629 - accuracy: 0.9855\n",
      "Epoch 9/10\n",
      "1050/1050 [==============================] - 59s 56ms/step - loss: 0.0611 - accuracy: 0.9863\n",
      "Epoch 10/10\n",
      "1050/1050 [==============================] - 60s 57ms/step - loss: 0.0569 - accuracy: 0.9866\n"
     ]
    },
    {
     "data": {
      "text/plain": [
       "<keras.callbacks.History at 0x12fa208e0>"
      ]
     },
     "execution_count": 21,
     "metadata": {},
     "output_type": "execute_result"
    }
   ],
   "source": [
    "model.fit(X_train, y_train, epochs = 10, callbacks=[callbacks])"
   ]
  },
  {
   "cell_type": "code",
   "execution_count": 22,
   "id": "b41c7352",
   "metadata": {},
   "outputs": [
    {
     "name": "stdout",
     "output_type": "stream",
     "text": [
      "263/263 [==============================] - 3s 10ms/step - loss: 0.0395 - accuracy: 0.9920\n"
     ]
    },
    {
     "data": {
      "text/plain": [
       "[0.0394701212644577, 0.9920238256454468]"
      ]
     },
     "execution_count": 22,
     "metadata": {},
     "output_type": "execute_result"
    }
   ],
   "source": [
    "model.evaluate(X_test, y_test)"
   ]
  },
  {
   "cell_type": "code",
   "execution_count": 24,
   "id": "80b207e4",
   "metadata": {},
   "outputs": [],
   "source": [
    "pred_probability = model.predict(X_test)\n",
    "pred = np.argmax(pred_probability,axis=1) #predicted image labels"
   ]
  },
  {
   "cell_type": "markdown",
   "id": "f9580122",
   "metadata": {},
   "source": [
    "Viewing Predictions"
   ]
  },
  {
   "cell_type": "code",
   "execution_count": 25,
   "id": "4d49e881",
   "metadata": {},
   "outputs": [
    {
     "name": "stdout",
     "output_type": "stream",
     "text": [
      "              precision    recall  f1-score   support\n",
      "\n",
      "           0       1.00      0.99      0.99       816\n",
      "           1       1.00      1.00      1.00       909\n",
      "           2       1.00      0.99      0.99       846\n",
      "           3       0.99      1.00      0.99       937\n",
      "           4       0.99      0.99      0.99       839\n",
      "           5       0.99      1.00      0.99       702\n",
      "           6       0.98      0.99      0.99       785\n",
      "           7       0.99      0.99      0.99       893\n",
      "           8       1.00      0.99      0.99       835\n",
      "           9       0.99      0.99      0.99       838\n",
      "\n",
      "    accuracy                           0.99      8400\n",
      "   macro avg       0.99      0.99      0.99      8400\n",
      "weighted avg       0.99      0.99      0.99      8400\n",
      "\n"
     ]
    },
    {
     "data": {
      "text/plain": [
       "'R2 score: 0.9868519435387135'"
      ]
     },
     "execution_count": 25,
     "metadata": {},
     "output_type": "execute_result"
    }
   ],
   "source": [
    "print(classification_report(y_test, pred))\n",
    "\"R2 score: \" + str(r2_score(y_test,pred))"
   ]
  },
  {
   "cell_type": "markdown",
   "id": "d5262a3c",
   "metadata": {},
   "source": [
    "View some incorrect predictions"
   ]
  },
  {
   "cell_type": "code",
   "execution_count": 38,
   "id": "8db17e55",
   "metadata": {},
   "outputs": [
    {
     "data": {
      "image/png": "[encoded data removed]",
      "text/plain": [
       "<Figure size 1440x576 with 8 Axes>"
      ]
     },
     "metadata": {
      "needs_background": "light"
     },
     "output_type": "display_data"
    }
   ],
   "source": [
    "counter = 9\n",
    "plt.figure(figsize=(20,8))\n",
    "wrong_labels = []\n",
    "\n",
    "for label_pred, label_true, image_arr in zip(pred, y_test, X_test):\n",
    "    \n",
    "    if label_pred != label_true:\n",
    "        counter += 1\n",
    "        wrong_labels.append(label_true)\n",
    "        string = str(label_pred) + ' should be ' + str(label_true)\n",
    "\n",
    "        plt.subplot(231+(counter))\n",
    "        plt.imshow(image_arr.reshape(28,28)) #cmap='gray'\n",
    "        plt.title(string)\n",
    "        \n",
    "    if counter == 17:\n",
    "        break\n",
    "\n"
   ]
  },
  {
   "cell_type": "code",
   "execution_count": 27,
   "id": "788ef516",
   "metadata": {},
   "outputs": [
    {
     "data": {
      "text/plain": [
       "67"
      ]
     },
     "execution_count": 27,
     "metadata": {},
     "output_type": "execute_result"
    }
   ],
   "source": [
    "counter-9"
   ]
  },
  {
   "cell_type": "code",
   "execution_count": 37,
   "id": "e0c85357",
   "metadata": {},
   "outputs": [
    {
     "data": {
      "text/plain": [
       "<AxesSubplot:ylabel='count'>"
      ]
     },
     "execution_count": 37,
     "metadata": {},
     "output_type": "execute_result"
    },
    {
     "data": {
      "image/png": "[encoded data removed]",
      "text/plain": [
       "<Figure size 432x288 with 1 Axes>"
      ]
     },
     "metadata": {
      "needs_background": "light"
     },
     "output_type": "display_data"
    }
   ],
   "source": [
    "sns.countplot(x = wrong_labels)"
   ]
  },
  {
   "cell_type": "code",
   "execution_count": 39,
   "id": "81360f6c",
   "metadata": {},
   "outputs": [
    {
     "data": {
      "image/png": "[encoded data removed]",
      "text/plain": [
       "<Figure size 1440x576 with 9 Axes>"
      ]
     },
     "metadata": {
      "needs_background": "light"
     },
     "output_type": "display_data"
    }
   ],
   "source": [
    "k = 9\n",
    "plt.figure(figsize=(20,8))\n",
    "wrong_labels = []\n",
    "\n",
    "for label_pred, label_true, image_arr in zip(pred, y_test, X_test):\n",
    "    \n",
    "    if label_pred != label_true and label_true in [7,8,9]:\n",
    "        k += 1\n",
    "        wrong_labels.append(label_true)\n",
    "        string = str(label_pred) + ' should be ' + str(label_true)\n",
    "\n",
    "        plt.subplot(241+(k))\n",
    "        plt.imshow(image_arr.reshape(28,28)) #cmap='gray'\n",
    "        plt.title(string)\n",
    "        \n",
    "    if k == 18:\n",
    "        break\n",
    "\n"
   ]
  }
 ],
 "metadata": {
  "kernelspec": {
   "display_name": "Python 3 (ipykernel)",
   "language": "python",
   "name": "python3"
  },
  "language_info": {
   "codemirror_mode": {
    "name": "ipython",
    "version": 3
   },
   "file_extension": ".py",
   "mimetype": "text/x-python",
   "name": "python",
   "nbconvert_exporter": "python",
   "pygments_lexer": "ipython3",
   "version": "3.10.1"
  }
 },
 "nbformat": 4,
 "nbformat_minor": 5
}
